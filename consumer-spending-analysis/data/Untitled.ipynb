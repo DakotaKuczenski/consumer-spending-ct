{
 "cells": [
  {
   "cell_type": "code",
   "execution_count": 1,
   "id": "436c1521-d2ea-4eaa-a6ee-a926855a044c",
   "metadata": {},
   "outputs": [
    {
     "ename": "NameError",
     "evalue": "name 'pd' is not defined",
     "output_type": "error",
     "traceback": [
      "\u001b[0;31m---------------------------------------------------------------------------\u001b[0m",
      "\u001b[0;31mNameError\u001b[0m                                 Traceback (most recent call last)",
      "Cell \u001b[0;32mIn[1], line 5\u001b[0m\n\u001b[1;32m      2\u001b[0m file_path \u001b[38;5;241m=\u001b[39m \u001b[38;5;124m'\u001b[39m\u001b[38;5;124mdata/Percent_Change_in_Consumer_Spending.csv\u001b[39m\u001b[38;5;124m'\u001b[39m\n\u001b[1;32m      4\u001b[0m \u001b[38;5;66;03m# Load the CSV file into a pandas DataFrame\u001b[39;00m\n\u001b[0;32m----> 5\u001b[0m consumer_spending_data \u001b[38;5;241m=\u001b[39m \u001b[43mpd\u001b[49m\u001b[38;5;241m.\u001b[39mread_csv(file_path)\n\u001b[1;32m      7\u001b[0m \u001b[38;5;66;03m# Check the first few rows and structure of the data\u001b[39;00m\n\u001b[1;32m      8\u001b[0m \u001b[38;5;28mprint\u001b[39m(consumer_spending_data\u001b[38;5;241m.\u001b[39mhead())\n",
      "\u001b[0;31mNameError\u001b[0m: name 'pd' is not defined"
     ]
    }
   ],
   "source": [
    "# Define the file path based on the suggested structure\n",
    "file_path = 'data/Percent_Change_in_Consumer_Spending.csv'\n",
    "\n",
    "# Load the CSV file into a pandas DataFrame\n",
    "consumer_spending_data = pd.read_csv(file_path)\n",
    "\n",
    "# Check the first few rows and structure of the data\n",
    "print(consumer_spending_data.head())\n",
    "print(consumer_spending_data.info())"
   ]
  },
  {
   "cell_type": "code",
   "execution_count": null,
   "id": "aec4a7a9-48e8-4c53-8052-647c403e9749",
   "metadata": {},
   "outputs": [],
   "source": []
  },
  {
   "cell_type": "code",
   "execution_count": null,
   "id": "2afcc585-5df4-4f6e-ae4e-ab0f7edb36fa",
   "metadata": {},
   "outputs": [],
   "source": []
  },
  {
   "cell_type": "code",
   "execution_count": null,
   "id": "54ddf937-1082-4b46-a73c-252f439ca218",
   "metadata": {},
   "outputs": [],
   "source": []
  },
  {
   "cell_type": "code",
   "execution_count": null,
   "id": "97593895-0ddb-4480-9137-8820c4e38038",
   "metadata": {},
   "outputs": [],
   "source": []
  },
  {
   "cell_type": "code",
   "execution_count": null,
   "id": "f7cbcef5-7c4a-4355-92ae-e7761a2a927f",
   "metadata": {},
   "outputs": [],
   "source": []
  },
  {
   "cell_type": "code",
   "execution_count": null,
   "id": "6b798f77-6c64-431f-bd3b-6c1e0ac7e49f",
   "metadata": {},
   "outputs": [],
   "source": []
  },
  {
   "cell_type": "code",
   "execution_count": null,
   "id": "5756ffc6-a922-4852-8dc0-d0bb869263de",
   "metadata": {},
   "outputs": [],
   "source": []
  },
  {
   "cell_type": "code",
   "execution_count": null,
   "id": "acce89be-ff8c-4233-b5fa-7ffad5cfa18c",
   "metadata": {},
   "outputs": [],
   "source": []
  },
  {
   "cell_type": "code",
   "execution_count": null,
   "id": "0452f4a7-743f-4eea-b4e3-6012c432aa9f",
   "metadata": {},
   "outputs": [],
   "source": []
  }
 ],
 "metadata": {
  "kernelspec": {
   "display_name": "Python 3 (ipykernel)",
   "language": "python",
   "name": "python3"
  },
  "language_info": {
   "codemirror_mode": {
    "name": "ipython",
    "version": 3
   },
   "file_extension": ".py",
   "mimetype": "text/x-python",
   "name": "python",
   "nbconvert_exporter": "python",
   "pygments_lexer": "ipython3",
   "version": "3.13.1"
  }
 },
 "nbformat": 4,
 "nbformat_minor": 5
}
